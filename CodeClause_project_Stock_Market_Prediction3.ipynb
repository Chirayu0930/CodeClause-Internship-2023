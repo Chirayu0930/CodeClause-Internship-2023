{
  "nbformat": 4,
  "nbformat_minor": 0,
  "metadata": {
    "colab": {
      "provenance": [],
      "authorship_tag": "ABX9TyMuSQfxyVIeHGUDHAVZaA/m"
    },
    "kernelspec": {
      "name": "python3",
      "display_name": "Python 3"
    },
    "language_info": {
      "name": "python"
    }
  },
  "cells": [
    {
      "cell_type": "markdown",
      "source": [
        "# Importing necessary libraries"
      ],
      "metadata": {
        "id": "5JCnSLUm3VLX"
      }
    },
    {
      "cell_type": "code",
      "execution_count": 3,
      "metadata": {
        "id": "-_spQPtPyDs1"
      },
      "outputs": [],
      "source": [
        "import pandas as pd\n",
        "import numpy as np\n",
        "import matplotlib.pyplot as plt\n",
        "from sklearn.preprocessing import MinMaxScaler\n",
        "from sklearn.metrics import mean_squared_error\n",
        "from sklearn.model_selection import train_test_split\n",
        "from keras.models import Sequential\n",
        "from keras.layers import Dense, LSTM\n",
        "\n"
      ]
    },
    {
      "cell_type": "markdown",
      "source": [
        "## Load data"
      ],
      "metadata": {
        "id": "Cpbz4l4U3iLw"
      }
    },
    {
      "cell_type": "code",
      "source": [
        "data = pd.read_csv('stock_prices.csv')"
      ],
      "metadata": {
        "id": "3t8p5NHyyqDn"
      },
      "execution_count": 17,
      "outputs": []
    },
    {
      "cell_type": "markdown",
      "source": [
        "## Clean data"
      ],
      "metadata": {
        "id": "WfkLKc_r3n0y"
      }
    },
    {
      "cell_type": "code",
      "source": [
        "data.dropna(inplace=True)"
      ],
      "metadata": {
        "id": "kHPyn58TytXN"
      },
      "execution_count": 5,
      "outputs": []
    },
    {
      "cell_type": "markdown",
      "source": [
        "## Preprocess data"
      ],
      "metadata": {
        "id": "c16inuor3tLN"
      }
    },
    {
      "cell_type": "code",
      "source": [
        "scaler = MinMaxScaler()\n",
        "data[['Open', 'High', 'Low', 'Close']] = scaler.fit_transform(data[['Open', 'High', 'Low', 'Close']])\n",
        "data['Volume'] = scaler.fit_transform(data['Volume'].values.reshape(-1,1))\n"
      ],
      "metadata": {
        "id": "dw4FBU5-yyBq"
      },
      "execution_count": 6,
      "outputs": []
    },
    {
      "cell_type": "markdown",
      "source": [
        "## Feature selection"
      ],
      "metadata": {
        "id": "1r8DDvTJ4Fam"
      }
    },
    {
      "cell_type": "markdown",
      "source": [],
      "metadata": {
        "id": "SSyyuugs7Nx3"
      }
    },
    {
      "cell_type": "code",
      "source": [
        "X = data[['Open', 'High', 'Low', 'Volume']]\n",
        "y = data['Close']"
      ],
      "metadata": {
        "id": "ldKj7o3z4Dat"
      },
      "execution_count": 7,
      "outputs": []
    },
    {
      "cell_type": "markdown",
      "source": [
        "## Split data into training and testing sets"
      ],
      "metadata": {
        "id": "CTeZLCNv4LfE"
      }
    },
    {
      "cell_type": "code",
      "source": [
        "X_train, X_test, y_train, y_test = train_test_split(X, y, test_size=0.2, random_state=42)"
      ],
      "metadata": {
        "id": "jlCCSAo7y7w4"
      },
      "execution_count": 8,
      "outputs": []
    },
    {
      "cell_type": "markdown",
      "source": [
        "## Reshape data to be 3D for LSTM model"
      ],
      "metadata": {
        "id": "zbq8ivqd4SwC"
      }
    },
    {
      "cell_type": "code",
      "source": [
        "X_train = np.reshape(X_train.values, (X_train.shape[0], X_train.shape[1], 1))\n",
        "X_test = np.reshape(X_test.values, (X_test.shape[0], X_test.shape[1], 1))\n"
      ],
      "metadata": {
        "id": "KcF2TxkIy9Vt"
      },
      "execution_count": 9,
      "outputs": []
    },
    {
      "cell_type": "markdown",
      "source": [
        "## Define LSTM model architecture"
      ],
      "metadata": {
        "id": "kPW_LXfx4VkE"
      }
    },
    {
      "cell_type": "code",
      "source": [
        "model = Sequential()\n",
        "model.add(LSTM(units=50, return_sequences=True, input_shape=(X_train.shape[1], 1)))\n",
        "model.add(LSTM(units=50))\n",
        "model.add(Dense(1))\n"
      ],
      "metadata": {
        "id": "jK_QYgV4zBMr"
      },
      "execution_count": 10,
      "outputs": []
    },
    {
      "cell_type": "markdown",
      "source": [
        "## Compile the model"
      ],
      "metadata": {
        "id": "Xtm_cmmn4ftZ"
      }
    },
    {
      "cell_type": "code",
      "source": [
        "model.compile(loss='mean_squared_error', optimizer='adam')"
      ],
      "metadata": {
        "id": "n6h8bTe_zEq9"
      },
      "execution_count": 11,
      "outputs": []
    },
    {
      "cell_type": "markdown",
      "source": [
        "## Train the model\n"
      ],
      "metadata": {
        "id": "TlC7s0vs4lys"
      }
    },
    {
      "cell_type": "code",
      "source": [
        "history = model.fit(X_train, y_train, epochs=50, batch_size=32, validation_data=(X_test, y_test))"
      ],
      "metadata": {
        "colab": {
          "base_uri": "https://localhost:8080/"
        },
        "id": "7X64ew9KzJ4B",
        "outputId": "62968ea4-8c14-4ae5-a314-c400e636b9fb"
      },
      "execution_count": 12,
      "outputs": [
        {
          "output_type": "stream",
          "name": "stdout",
          "text": [
            "Epoch 1/50\n",
            "490/490 [==============================] - 11s 13ms/step - loss: 9.6751e-04 - val_loss: 1.8702e-05\n",
            "Epoch 2/50\n",
            "490/490 [==============================] - 4s 9ms/step - loss: 2.2236e-05 - val_loss: 1.6412e-05\n",
            "Epoch 3/50\n",
            "490/490 [==============================] - 4s 8ms/step - loss: 2.3081e-05 - val_loss: 3.6762e-05\n",
            "Epoch 4/50\n",
            "490/490 [==============================] - 5s 10ms/step - loss: 1.9777e-05 - val_loss: 1.4147e-05\n",
            "Epoch 5/50\n",
            "490/490 [==============================] - 4s 9ms/step - loss: 2.2102e-05 - val_loss: 2.3449e-05\n",
            "Epoch 6/50\n",
            "490/490 [==============================] - 4s 9ms/step - loss: 2.2503e-05 - val_loss: 1.1186e-05\n",
            "Epoch 7/50\n",
            "490/490 [==============================] - 5s 10ms/step - loss: 1.8658e-05 - val_loss: 1.5907e-05\n",
            "Epoch 8/50\n",
            "490/490 [==============================] - 4s 9ms/step - loss: 1.7145e-05 - val_loss: 3.4500e-05\n",
            "Epoch 9/50\n",
            "490/490 [==============================] - 4s 8ms/step - loss: 2.2094e-05 - val_loss: 7.4317e-06\n",
            "Epoch 10/50\n",
            "490/490 [==============================] - 5s 10ms/step - loss: 1.7338e-05 - val_loss: 1.0969e-05\n",
            "Epoch 11/50\n",
            "490/490 [==============================] - 4s 9ms/step - loss: 1.7921e-05 - val_loss: 7.3259e-06\n",
            "Epoch 12/50\n",
            "490/490 [==============================] - 5s 10ms/step - loss: 1.6160e-05 - val_loss: 8.6138e-06\n",
            "Epoch 13/50\n",
            "490/490 [==============================] - 5s 10ms/step - loss: 1.4690e-05 - val_loss: 1.6828e-05\n",
            "Epoch 14/50\n",
            "490/490 [==============================] - 4s 9ms/step - loss: 1.4344e-05 - val_loss: 1.1768e-05\n",
            "Epoch 15/50\n",
            "490/490 [==============================] - 5s 11ms/step - loss: 1.9787e-05 - val_loss: 8.2686e-06\n",
            "Epoch 16/50\n",
            "490/490 [==============================] - 4s 9ms/step - loss: 1.2902e-05 - val_loss: 8.1250e-06\n",
            "Epoch 17/50\n",
            "490/490 [==============================] - 4s 9ms/step - loss: 1.3090e-05 - val_loss: 1.2543e-05\n",
            "Epoch 18/50\n",
            "490/490 [==============================] - 6s 12ms/step - loss: 1.3200e-05 - val_loss: 5.3121e-06\n",
            "Epoch 19/50\n",
            "490/490 [==============================] - 4s 9ms/step - loss: 1.1732e-05 - val_loss: 5.4051e-06\n",
            "Epoch 20/50\n",
            "490/490 [==============================] - 4s 8ms/step - loss: 1.1229e-05 - val_loss: 5.3504e-06\n",
            "Epoch 21/50\n",
            "490/490 [==============================] - 5s 10ms/step - loss: 1.6721e-05 - val_loss: 6.5897e-06\n",
            "Epoch 22/50\n",
            "490/490 [==============================] - 4s 9ms/step - loss: 1.4536e-05 - val_loss: 6.0061e-06\n",
            "Epoch 23/50\n",
            "490/490 [==============================] - 6s 11ms/step - loss: 1.1883e-05 - val_loss: 4.6027e-06\n",
            "Epoch 24/50\n",
            "490/490 [==============================] - 5s 11ms/step - loss: 1.1889e-05 - val_loss: 5.8377e-06\n",
            "Epoch 25/50\n",
            "490/490 [==============================] - 5s 9ms/step - loss: 1.2475e-05 - val_loss: 1.4723e-05\n",
            "Epoch 26/50\n",
            "490/490 [==============================] - 5s 11ms/step - loss: 1.1416e-05 - val_loss: 3.8231e-06\n",
            "Epoch 27/50\n",
            "490/490 [==============================] - 4s 9ms/step - loss: 1.1383e-05 - val_loss: 5.4156e-06\n",
            "Epoch 28/50\n",
            "490/490 [==============================] - 4s 9ms/step - loss: 1.0483e-05 - val_loss: 3.5940e-06\n",
            "Epoch 29/50\n",
            "490/490 [==============================] - 5s 10ms/step - loss: 1.2758e-05 - val_loss: 3.6210e-06\n",
            "Epoch 30/50\n",
            "490/490 [==============================] - 5s 10ms/step - loss: 9.8927e-06 - val_loss: 6.9898e-06\n",
            "Epoch 31/50\n",
            "490/490 [==============================] - 4s 9ms/step - loss: 9.4286e-06 - val_loss: 5.3461e-06\n",
            "Epoch 32/50\n",
            "490/490 [==============================] - 5s 10ms/step - loss: 1.1323e-05 - val_loss: 1.2638e-05\n",
            "Epoch 33/50\n",
            "490/490 [==============================] - 4s 8ms/step - loss: 1.0875e-05 - val_loss: 4.9212e-06\n",
            "Epoch 34/50\n",
            "490/490 [==============================] - 5s 11ms/step - loss: 8.1380e-06 - val_loss: 5.0007e-06\n",
            "Epoch 35/50\n",
            "490/490 [==============================] - 5s 10ms/step - loss: 9.2998e-06 - val_loss: 7.7879e-06\n",
            "Epoch 36/50\n",
            "490/490 [==============================] - 4s 9ms/step - loss: 9.6400e-06 - val_loss: 5.4263e-06\n",
            "Epoch 37/50\n",
            "490/490 [==============================] - 5s 10ms/step - loss: 9.3049e-06 - val_loss: 4.8826e-06\n",
            "Epoch 38/50\n",
            "490/490 [==============================] - 4s 9ms/step - loss: 8.2997e-06 - val_loss: 3.2818e-06\n",
            "Epoch 39/50\n",
            "490/490 [==============================] - 5s 10ms/step - loss: 9.9005e-06 - val_loss: 1.2497e-05\n",
            "Epoch 40/50\n",
            "490/490 [==============================] - 5s 11ms/step - loss: 9.1113e-06 - val_loss: 4.8677e-06\n",
            "Epoch 41/50\n",
            "490/490 [==============================] - 4s 9ms/step - loss: 8.2131e-06 - val_loss: 5.0789e-06\n",
            "Epoch 42/50\n",
            "490/490 [==============================] - 5s 10ms/step - loss: 1.2972e-05 - val_loss: 8.8195e-06\n",
            "Epoch 43/50\n",
            "490/490 [==============================] - 5s 10ms/step - loss: 8.0160e-06 - val_loss: 3.8739e-06\n",
            "Epoch 44/50\n",
            "490/490 [==============================] - 5s 10ms/step - loss: 9.4311e-06 - val_loss: 1.2072e-05\n",
            "Epoch 45/50\n",
            "490/490 [==============================] - 5s 10ms/step - loss: 8.6072e-06 - val_loss: 3.5010e-06\n",
            "Epoch 46/50\n",
            "490/490 [==============================] - 4s 8ms/step - loss: 7.7604e-06 - val_loss: 5.3034e-06\n",
            "Epoch 47/50\n",
            "490/490 [==============================] - 4s 8ms/step - loss: 8.2216e-06 - val_loss: 2.9309e-06\n",
            "Epoch 48/50\n",
            "490/490 [==============================] - 5s 10ms/step - loss: 9.9794e-06 - val_loss: 8.3857e-06\n",
            "Epoch 49/50\n",
            "490/490 [==============================] - 4s 8ms/step - loss: 8.6470e-06 - val_loss: 1.3371e-05\n",
            "Epoch 50/50\n",
            "490/490 [==============================] - 4s 8ms/step - loss: 1.0147e-05 - val_loss: 1.1318e-05\n"
          ]
        }
      ]
    },
    {
      "cell_type": "markdown",
      "source": [
        "## Evaluate the model"
      ],
      "metadata": {
        "id": "BQvtEvE-4r9q"
      }
    },
    {
      "cell_type": "code",
      "source": [
        "y_pred = model.predict(X_test)\n",
        "rmse = np.sqrt(mean_squared_error(y_test, y_pred))\n",
        "print('RMSE:', rmse)"
      ],
      "metadata": {
        "colab": {
          "base_uri": "https://localhost:8080/"
        },
        "id": "5fNmV0khzrhJ",
        "outputId": "f4efcb24-5d90-409b-e1cb-208c5fa42259"
      },
      "execution_count": 13,
      "outputs": [
        {
          "output_type": "stream",
          "name": "stdout",
          "text": [
            "123/123 [==============================] - 1s 3ms/step\n",
            "RMSE: 0.0033642909286923837\n"
          ]
        }
      ]
    },
    {
      "cell_type": "markdown",
      "source": [
        "## Visualize training and validation loss"
      ],
      "metadata": {
        "id": "we-okQqO44M8"
      }
    },
    {
      "cell_type": "code",
      "source": [
        "plt.plot(history.history['loss'], label='Training Loss')\n",
        "plt.plot(history.history['val_loss'], label='Validation Loss')\n",
        "plt.legend()\n",
        "plt.show()\n"
      ],
      "metadata": {
        "colab": {
          "base_uri": "https://localhost:8080/",
          "height": 430
        },
        "id": "dcSZJzgq0c2x",
        "outputId": "bb8abd88-4d1f-4aef-c73e-e59287572891"
      },
      "execution_count": 18,
      "outputs": [
        {
          "output_type": "display_data",
          "data": {
            "text/plain": [
              "<Figure size 640x480 with 1 Axes>"
            ],
            "image/png": "[encoded data removed]"
          },
          "metadata": {}
        }
      ]
    },
    {
      "cell_type": "markdown",
      "source": [
        "## Visualize actual vs. predicted stock prices"
      ],
      "metadata": {
        "id": "Jf4MB-dQ4-na"
      }
    },
    {
      "cell_type": "code",
      "source": [
        "plt.plot(y_test.values, color='red', label='Actual Stock Price')\n",
        "plt.plot(y_pred, color='blue', label='Predicted Stock Price')\n",
        "plt.legend()\n",
        "plt.show()"
      ],
      "metadata": {
        "colab": {
          "base_uri": "https://localhost:8080/",
          "height": 430
        },
        "id": "pcYJuEoH0hdC",
        "outputId": "ac99a6e1-ef79-48e5-b2fb-2a5f0f227705"
      },
      "execution_count": 15,
      "outputs": [
        {
          "output_type": "display_data",
          "data": {
            "text/plain": [
              "<Figure size 640x480 with 1 Axes>"
            ],
            "image/png": "[encoded data removed]"
          },
          "metadata": {}
        }
      ]
    }
  ]
}